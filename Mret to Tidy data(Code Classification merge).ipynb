{
 "cells": [
  {
   "cell_type": "markdown",
   "metadata": {},
   "source": [
    "###  Mret xlsx to Tidydata"
   ]
  },
  {
   "cell_type": "code",
   "execution_count": 1,
   "metadata": {
    "collapsed": true
   },
   "outputs": [],
   "source": [
    "from databaker.framework import *\n",
    "import pandas as pd"
   ]
  },
  {
   "cell_type": "code",
   "execution_count": 2,
   "metadata": {
    "collapsed": true
   },
   "outputs": [],
   "source": [
    " import requests\n",
    "from pathlib import Path\n",
    "\n",
    "sourceFolder = Path('in')\n",
    "sourceFolder.mkdir(exist_ok=True)\n",
    "\n",
    "inputURL = 'https://www.ons.gov.uk/file?uri=/economy/nationalaccounts/balanceofpayments/datasets/tradeingoodsmretsallbopeu2013timeseriesspreadsheet/current/mret.xlsx'\n",
    "inputFile = sourceFolder / 'mret.xls'\n",
    "if not(inputFile.exists() and inputFile.is_file()):\n",
    "    response = requests.get(inputURL)\n",
    "    with open(inputFile, 'wb') as f:\n",
    "        f.write(response.content)"
   ]
  },
  {
   "cell_type": "code",
   "execution_count": null,
   "metadata": {
    "collapsed": true
   },
   "outputs": [],
   "source": [
    "# inputFile = 'mret.xlsx'"
   ]
  },
  {
   "cell_type": "code",
   "execution_count": 3,
   "metadata": {},
   "outputs": [
    {
     "name": "stdout",
     "output_type": "stream",
     "text": [
      "Loading in\\mret.xls which has size 2795578 bytes\n",
      "Table names: ['data']\n"
     ]
    }
   ],
   "source": [
    "tab = loadxlstabs(inputFile)"
   ]
  },
  {
   "cell_type": "code",
   "execution_count": 4,
   "metadata": {
    "collapsed": true
   },
   "outputs": [],
   "source": [
    "tab = tab[0]"
   ]
  },
  {
   "cell_type": "code",
   "execution_count": 5,
   "metadata": {
    "collapsed": true
   },
   "outputs": [],
   "source": [
    "observations = tab.excel_ref('B8').expand(DOWN).expand(RIGHT).is_not_blank()"
   ]
  },
  {
   "cell_type": "code",
   "execution_count": 6,
   "metadata": {
    "collapsed": true
   },
   "outputs": [],
   "source": [
    "Title = tab.excel_ref('B1').expand(RIGHT).is_not_blank()"
   ]
  },
  {
   "cell_type": "code",
   "execution_count": 7,
   "metadata": {
    "collapsed": true
   },
   "outputs": [],
   "source": [
    "CDID = tab.excel_ref('B2').expand(RIGHT).is_not_blank()"
   ]
  },
  {
   "cell_type": "code",
   "execution_count": 8,
   "metadata": {
    "collapsed": true
   },
   "outputs": [],
   "source": [
    "Year = tab.excel_ref('A8').expand(DOWN).is_not_blank()"
   ]
  },
  {
   "cell_type": "code",
   "execution_count": 9,
   "metadata": {
    "collapsed": true
   },
   "outputs": [],
   "source": [
    "Currency = tab.excel_ref('P3')"
   ]
  },
  {
   "cell_type": "code",
   "execution_count": 10,
   "metadata": {
    "collapsed": true
   },
   "outputs": [],
   "source": [
    "Dimensions = [\n",
    "            HDimConst('Geography', 'K02000001'),\n",
    "            HDim(Year,'TIME',DIRECTLY,LEFT),\n",
    "            HDim(CDID,'Cdid',DIRECTLY,ABOVE),\n",
    "            HDimConst('Unit', '£ Millions'), \n",
    "            HDimConst('Measure Type','GBP Total'),            \n",
    "            HDim(Title,'Title',DIRECTLY,ABOVE)\n",
    "    \n",
    "]"
   ]
  },
  {
   "cell_type": "code",
   "execution_count": 11,
   "metadata": {
    "collapsed": true
   },
   "outputs": [],
   "source": [
    "c1 = ConversionSegment(observations, Dimensions, processTIMEUNIT=True)"
   ]
  },
  {
   "cell_type": "code",
   "execution_count": 12,
   "metadata": {},
   "outputs": [
    {
     "name": "stdout",
     "output_type": "stream",
     "text": [
      "multiple TIMEUNITs: 'Year'(15790), 'Quarter'(63160), ''(190162)\n"
     ]
    }
   ],
   "source": [
    "new_table = c1.topandas()"
   ]
  },
  {
   "cell_type": "code",
   "execution_count": null,
   "metadata": {
    "collapsed": true
   },
   "outputs": [],
   "source": [
    "# new_table['Title'] = new_table['Title'].map(lambda cell:cell.replace('£m', ''))"
   ]
  },
  {
   "cell_type": "code",
   "execution_count": null,
   "metadata": {
    "collapsed": true
   },
   "outputs": [],
   "source": [
    "# new_table = new_table.drop('TIMEUNIT', axis=1)"
   ]
  },
  {
   "cell_type": "code",
   "execution_count": 13,
   "metadata": {},
   "outputs": [
    {
     "name": "stdout",
     "output_type": "stream",
     "text": [
      "269112\n"
     ]
    }
   ],
   "source": [
    "print(len(new_table))"
   ]
  },
  {
   "cell_type": "code",
   "execution_count": null,
   "metadata": {},
   "outputs": [],
   "source": [
    "# new_table.fillna('', inplace=True)\n",
    "\n",
    "# writetechnicalCSV('C:\\\\Users\\\\vamsi\\\\Desktop\\\\Gdrive\\\\Out\\\\Mret\\\\mretWDA.csv', new_table)"
   ]
  },
  {
   "cell_type": "code",
   "execution_count": 14,
   "metadata": {},
   "outputs": [
    {
     "data": {
      "text/html": [
       "<div>\n",
       "<style>\n",
       "    .dataframe thead tr:only-child th {\n",
       "        text-align: right;\n",
       "    }\n",
       "\n",
       "    .dataframe thead th {\n",
       "        text-align: left;\n",
       "    }\n",
       "\n",
       "    .dataframe tbody tr th {\n",
       "        vertical-align: top;\n",
       "    }\n",
       "</style>\n",
       "<table border=\"1\" class=\"dataframe\">\n",
       "  <thead>\n",
       "    <tr style=\"text-align: right;\">\n",
       "      <th></th>\n",
       "      <th>cdid</th>\n",
       "      <th>COMMODITY</th>\n",
       "      <th>AREA</th>\n",
       "      <th>DIRECTION</th>\n",
       "      <th>BASIS</th>\n",
       "      <th>PRICE</th>\n",
       "      <th>SEASADJ</th>\n",
       "      <th>PERIOD</th>\n",
       "    </tr>\n",
       "  </thead>\n",
       "  <tbody>\n",
       "    <tr>\n",
       "      <th>6196</th>\n",
       "      <td>BPFR</td>\n",
       "      <td>5min8minE</td>\n",
       "      <td>WW</td>\n",
       "      <td>IM</td>\n",
       "      <td>BOP</td>\n",
       "      <td>IDEF</td>\n",
       "      <td>NSA</td>\n",
       "      <td>M</td>\n",
       "    </tr>\n",
       "    <tr>\n",
       "      <th>6197</th>\n",
       "      <td>BPGR</td>\n",
       "      <td>5min8minE</td>\n",
       "      <td>WW</td>\n",
       "      <td>IM</td>\n",
       "      <td>BOP</td>\n",
       "      <td>IDEF</td>\n",
       "      <td>SA</td>\n",
       "      <td>M</td>\n",
       "    </tr>\n",
       "    <tr>\n",
       "      <th>6198</th>\n",
       "      <td>BPCR</td>\n",
       "      <td>5min8minE</td>\n",
       "      <td>WW</td>\n",
       "      <td>IM</td>\n",
       "      <td>BOP</td>\n",
       "      <td>VM</td>\n",
       "      <td>NSA</td>\n",
       "      <td>M</td>\n",
       "    </tr>\n",
       "    <tr>\n",
       "      <th>6199</th>\n",
       "      <td>ELAI</td>\n",
       "      <td>5min8minE</td>\n",
       "      <td>WW</td>\n",
       "      <td>IM</td>\n",
       "      <td>BOP</td>\n",
       "      <td>VM</td>\n",
       "      <td>SA</td>\n",
       "      <td>M</td>\n",
       "    </tr>\n",
       "    <tr>\n",
       "      <th>6200</th>\n",
       "      <td>NaN</td>\n",
       "      <td>NaN</td>\n",
       "      <td>NaN</td>\n",
       "      <td>NaN</td>\n",
       "      <td>NaN</td>\n",
       "      <td>NaN</td>\n",
       "      <td>NaN</td>\n",
       "      <td>NaN</td>\n",
       "    </tr>\n",
       "  </tbody>\n",
       "</table>\n",
       "</div>"
      ],
      "text/plain": [
       "      cdid  COMMODITY AREA DIRECTION BASIS PRICE SEASADJ PERIOD\n",
       "6196  BPFR  5min8minE   WW        IM   BOP  IDEF     NSA      M\n",
       "6197  BPGR  5min8minE   WW        IM   BOP  IDEF      SA      M\n",
       "6198  BPCR  5min8minE   WW        IM   BOP    VM     NSA      M\n",
       "6199  ELAI  5min8minE   WW        IM   BOP    VM      SA      M\n",
       "6200   NaN        NaN  NaN       NaN   NaN   NaN     NaN    NaN"
      ]
     },
     "execution_count": 14,
     "metadata": {},
     "output_type": "execute_result"
    }
   ],
   "source": [
    "temp_table = pd.read_excel('cord_sitc classification table.xlsx', sheet_name = 0)\n",
    "temp_table = temp_table.reset_index()\n",
    "temp_table.drop(['level_0','level_1','Sequence'], axis =1, inplace = True)\n",
    "temp_table.tail(5)\n"
   ]
  },
  {
   "cell_type": "code",
   "execution_count": 17,
   "metadata": {
    "collapsed": true
   },
   "outputs": [],
   "source": [
    "classification1 = pd.read_excel('CSDB classification tables.xlsx', 'cord_sitc')\n",
    "classification2 = pd.read_excel('CSDB classification tables.xlsx', 'cord_cpa')\n",
    "classification3 = pd.read_excel('CSDB classification tables.xlsx', 'cord_country')\n",
    "classification4 = pd.read_csv('Codelist.csv')"
   ]
  },
  {
   "cell_type": "code",
   "execution_count": 19,
   "metadata": {},
   "outputs": [
    {
     "data": {
      "text/html": [
       "<div>\n",
       "<style>\n",
       "    .dataframe thead tr:only-child th {\n",
       "        text-align: right;\n",
       "    }\n",
       "\n",
       "    .dataframe thead th {\n",
       "        text-align: left;\n",
       "    }\n",
       "\n",
       "    .dataframe tbody tr th {\n",
       "        vertical-align: top;\n",
       "    }\n",
       "</style>\n",
       "<table border=\"1\" class=\"dataframe\">\n",
       "  <thead>\n",
       "    <tr style=\"text-align: right;\">\n",
       "      <th></th>\n",
       "      <th>cdid</th>\n",
       "      <th>COMMODITY</th>\n",
       "      <th>AREA</th>\n",
       "      <th>DIRECTION</th>\n",
       "      <th>BASIS</th>\n",
       "      <th>PRICE</th>\n",
       "      <th>SEASADJ</th>\n",
       "      <th>PERIOD</th>\n",
       "    </tr>\n",
       "  </thead>\n",
       "  <tbody>\n",
       "    <tr>\n",
       "      <th>0</th>\n",
       "      <td>SDSX</td>\n",
       "      <td>2plus4</td>\n",
       "      <td>EU</td>\n",
       "      <td>BAL</td>\n",
       "      <td>BOP</td>\n",
       "      <td>CP</td>\n",
       "      <td>NSA</td>\n",
       "      <td>Q</td>\n",
       "    </tr>\n",
       "    <tr>\n",
       "      <th>1</th>\n",
       "      <td>SGLO</td>\n",
       "      <td>5minus8</td>\n",
       "      <td>EU</td>\n",
       "      <td>BAL</td>\n",
       "      <td>BOP</td>\n",
       "      <td>CP</td>\n",
       "      <td>NSA</td>\n",
       "      <td>Q</td>\n",
       "    </tr>\n",
       "    <tr>\n",
       "      <th>2</th>\n",
       "      <td>SESL</td>\n",
       "      <td>5plus6</td>\n",
       "      <td>EU</td>\n",
       "      <td>BAL</td>\n",
       "      <td>BOP</td>\n",
       "      <td>CP</td>\n",
       "      <td>NSA</td>\n",
       "      <td>Q</td>\n",
       "    </tr>\n",
       "    <tr>\n",
       "      <th>3</th>\n",
       "      <td>SFJC</td>\n",
       "      <td>7plus8</td>\n",
       "      <td>EU</td>\n",
       "      <td>BAL</td>\n",
       "      <td>BOP</td>\n",
       "      <td>CP</td>\n",
       "      <td>NSA</td>\n",
       "      <td>Q</td>\n",
       "    </tr>\n",
       "    <tr>\n",
       "      <th>4</th>\n",
       "      <td>LKTX</td>\n",
       "      <td>TminusO</td>\n",
       "      <td>EU</td>\n",
       "      <td>BAL</td>\n",
       "      <td>BOP</td>\n",
       "      <td>CP</td>\n",
       "      <td>NSA</td>\n",
       "      <td>Q</td>\n",
       "    </tr>\n",
       "  </tbody>\n",
       "</table>\n",
       "</div>"
      ],
      "text/plain": [
       "   cdid COMMODITY AREA DIRECTION BASIS PRICE SEASADJ PERIOD\n",
       "0  SDSX    2plus4   EU       BAL   BOP    CP     NSA      Q\n",
       "1  SGLO   5minus8   EU       BAL   BOP    CP     NSA      Q\n",
       "2  SESL    5plus6   EU       BAL   BOP    CP     NSA      Q\n",
       "3  SFJC    7plus8   EU       BAL   BOP    CP     NSA      Q\n",
       "4  LKTX   TminusO   EU       BAL   BOP    CP     NSA      Q"
      ]
     },
     "execution_count": 19,
     "metadata": {},
     "output_type": "execute_result"
    }
   ],
   "source": [
    "classification1.head(5)"
   ]
  },
  {
   "cell_type": "code",
   "execution_count": 20,
   "metadata": {},
   "outputs": [
    {
     "data": {
      "text/html": [
       "<div>\n",
       "<style>\n",
       "    .dataframe thead tr:only-child th {\n",
       "        text-align: right;\n",
       "    }\n",
       "\n",
       "    .dataframe thead th {\n",
       "        text-align: left;\n",
       "    }\n",
       "\n",
       "    .dataframe tbody tr th {\n",
       "        vertical-align: top;\n",
       "    }\n",
       "</style>\n",
       "<table border=\"1\" class=\"dataframe\">\n",
       "  <thead>\n",
       "    <tr style=\"text-align: right;\">\n",
       "      <th></th>\n",
       "      <th>cdid</th>\n",
       "      <th>PRODUCT</th>\n",
       "      <th>AREA</th>\n",
       "      <th>DIRECTION</th>\n",
       "      <th>BASIS</th>\n",
       "      <th>PRICE</th>\n",
       "      <th>SEASADJ</th>\n",
       "      <th>PERIOD</th>\n",
       "    </tr>\n",
       "  </thead>\n",
       "  <tbody>\n",
       "    <tr>\n",
       "      <th>0</th>\n",
       "      <td>P42L</td>\n",
       "      <td>24.2</td>\n",
       "      <td>EU</td>\n",
       "      <td>EX</td>\n",
       "      <td>BOP</td>\n",
       "      <td>CP</td>\n",
       "      <td>NSA</td>\n",
       "      <td>Q</td>\n",
       "    </tr>\n",
       "    <tr>\n",
       "      <th>1</th>\n",
       "      <td>P483</td>\n",
       "      <td>24.2</td>\n",
       "      <td>EU</td>\n",
       "      <td>EX</td>\n",
       "      <td>BOP</td>\n",
       "      <td>CP</td>\n",
       "      <td>SA</td>\n",
       "      <td>Q</td>\n",
       "    </tr>\n",
       "    <tr>\n",
       "      <th>2</th>\n",
       "      <td>P4DJ</td>\n",
       "      <td>24.2</td>\n",
       "      <td>EU</td>\n",
       "      <td>EX</td>\n",
       "      <td>BOP</td>\n",
       "      <td>CVM</td>\n",
       "      <td>NSA</td>\n",
       "      <td>Q</td>\n",
       "    </tr>\n",
       "    <tr>\n",
       "      <th>3</th>\n",
       "      <td>P4IZ</td>\n",
       "      <td>24.2</td>\n",
       "      <td>EU</td>\n",
       "      <td>EX</td>\n",
       "      <td>BOP</td>\n",
       "      <td>CVM</td>\n",
       "      <td>SA</td>\n",
       "      <td>Q</td>\n",
       "    </tr>\n",
       "    <tr>\n",
       "      <th>4</th>\n",
       "      <td>P3EP</td>\n",
       "      <td>24.2</td>\n",
       "      <td>EU</td>\n",
       "      <td>IM</td>\n",
       "      <td>BOP</td>\n",
       "      <td>CP</td>\n",
       "      <td>NSA</td>\n",
       "      <td>Q</td>\n",
       "    </tr>\n",
       "  </tbody>\n",
       "</table>\n",
       "</div>"
      ],
      "text/plain": [
       "   cdid PRODUCT AREA DIRECTION BASIS PRICE SEASADJ PERIOD\n",
       "0  P42L    24.2   EU        EX   BOP    CP     NSA      Q\n",
       "1  P483    24.2   EU        EX   BOP    CP      SA      Q\n",
       "2  P4DJ    24.2   EU        EX   BOP   CVM     NSA      Q\n",
       "3  P4IZ    24.2   EU        EX   BOP   CVM      SA      Q\n",
       "4  P3EP    24.2   EU        IM   BOP    CP     NSA      Q"
      ]
     },
     "execution_count": 20,
     "metadata": {},
     "output_type": "execute_result"
    }
   ],
   "source": [
    "classification2.head(5)"
   ]
  },
  {
   "cell_type": "code",
   "execution_count": 21,
   "metadata": {},
   "outputs": [
    {
     "data": {
      "text/html": [
       "<div>\n",
       "<style>\n",
       "    .dataframe thead tr:only-child th {\n",
       "        text-align: right;\n",
       "    }\n",
       "\n",
       "    .dataframe thead th {\n",
       "        text-align: left;\n",
       "    }\n",
       "\n",
       "    .dataframe tbody tr th {\n",
       "        vertical-align: top;\n",
       "    }\n",
       "</style>\n",
       "<table border=\"1\" class=\"dataframe\">\n",
       "  <thead>\n",
       "    <tr style=\"text-align: right;\">\n",
       "      <th></th>\n",
       "      <th>cdid</th>\n",
       "      <th>COUNTRY</th>\n",
       "      <th>DIRECTION</th>\n",
       "      <th>BASIS</th>\n",
       "      <th>SEASADJ</th>\n",
       "      <th>PERIOD</th>\n",
       "    </tr>\n",
       "  </thead>\n",
       "  <tbody>\n",
       "    <tr>\n",
       "      <th>0</th>\n",
       "      <td>KN2O</td>\n",
       "      <td>XS</td>\n",
       "      <td>BAL</td>\n",
       "      <td>BOP</td>\n",
       "      <td>NSA</td>\n",
       "      <td>Q</td>\n",
       "    </tr>\n",
       "    <tr>\n",
       "      <th>1</th>\n",
       "      <td>LGDS</td>\n",
       "      <td>V4</td>\n",
       "      <td>BAL</td>\n",
       "      <td>BOP</td>\n",
       "      <td>NSA</td>\n",
       "      <td>Q</td>\n",
       "    </tr>\n",
       "    <tr>\n",
       "      <th>2</th>\n",
       "      <td>L87P</td>\n",
       "      <td>V3</td>\n",
       "      <td>BAL</td>\n",
       "      <td>BOP</td>\n",
       "      <td>NSA</td>\n",
       "      <td>Q</td>\n",
       "    </tr>\n",
       "    <tr>\n",
       "      <th>3</th>\n",
       "      <td>L87J</td>\n",
       "      <td>V2</td>\n",
       "      <td>BAL</td>\n",
       "      <td>BOP</td>\n",
       "      <td>NSA</td>\n",
       "      <td>Q</td>\n",
       "    </tr>\n",
       "    <tr>\n",
       "      <th>4</th>\n",
       "      <td>MHN8</td>\n",
       "      <td>I7</td>\n",
       "      <td>BAL</td>\n",
       "      <td>BOP</td>\n",
       "      <td>NSA</td>\n",
       "      <td>Q</td>\n",
       "    </tr>\n",
       "  </tbody>\n",
       "</table>\n",
       "</div>"
      ],
      "text/plain": [
       "   cdid COUNTRY DIRECTION BASIS SEASADJ PERIOD\n",
       "0  KN2O      XS       BAL   BOP     NSA      Q\n",
       "1  LGDS      V4       BAL   BOP     NSA      Q\n",
       "2  L87P      V3       BAL   BOP     NSA      Q\n",
       "3  L87J      V2       BAL   BOP     NSA      Q\n",
       "4  MHN8      I7       BAL   BOP     NSA      Q"
      ]
     },
     "execution_count": 21,
     "metadata": {},
     "output_type": "execute_result"
    }
   ],
   "source": [
    "classification3.head(5)"
   ]
  },
  {
   "cell_type": "code",
   "execution_count": 18,
   "metadata": {},
   "outputs": [
    {
     "data": {
      "text/html": [
       "<div>\n",
       "<style>\n",
       "    .dataframe thead tr:only-child th {\n",
       "        text-align: right;\n",
       "    }\n",
       "\n",
       "    .dataframe thead th {\n",
       "        text-align: left;\n",
       "    }\n",
       "\n",
       "    .dataframe tbody tr th {\n",
       "        vertical-align: top;\n",
       "    }\n",
       "</style>\n",
       "<table border=\"1\" class=\"dataframe\">\n",
       "  <thead>\n",
       "    <tr style=\"text-align: right;\">\n",
       "      <th></th>\n",
       "      <th>cdid</th>\n",
       "      <th>COMMODITY</th>\n",
       "      <th>AREA</th>\n",
       "      <th>DIRECTION</th>\n",
       "      <th>BASIS</th>\n",
       "      <th>PRICE</th>\n",
       "      <th>SEASADJ</th>\n",
       "      <th>PERIOD</th>\n",
       "    </tr>\n",
       "  </thead>\n",
       "  <tbody>\n",
       "    <tr>\n",
       "      <th>0</th>\n",
       "      <td>AJFB</td>\n",
       "      <td>NaN</td>\n",
       "      <td>UK</td>\n",
       "      <td>NaN</td>\n",
       "      <td>BE</td>\n",
       "      <td>CP</td>\n",
       "      <td>NSA</td>\n",
       "      <td>NaN</td>\n",
       "    </tr>\n",
       "    <tr>\n",
       "      <th>1</th>\n",
       "      <td>AJFD</td>\n",
       "      <td>NaN</td>\n",
       "      <td>UK</td>\n",
       "      <td>NaN</td>\n",
       "      <td>BE</td>\n",
       "      <td>CP</td>\n",
       "      <td>NSA</td>\n",
       "      <td>NaN</td>\n",
       "    </tr>\n",
       "    <tr>\n",
       "      <th>2</th>\n",
       "      <td>AJFI</td>\n",
       "      <td>NaN</td>\n",
       "      <td>UK</td>\n",
       "      <td>NaN</td>\n",
       "      <td>BE</td>\n",
       "      <td>CP</td>\n",
       "      <td>NSA</td>\n",
       "      <td>NaN</td>\n",
       "    </tr>\n",
       "    <tr>\n",
       "      <th>3</th>\n",
       "      <td>AJFJ</td>\n",
       "      <td>NaN</td>\n",
       "      <td>UK</td>\n",
       "      <td>NaN</td>\n",
       "      <td>BE</td>\n",
       "      <td>CP</td>\n",
       "      <td>NSA</td>\n",
       "      <td>NaN</td>\n",
       "    </tr>\n",
       "    <tr>\n",
       "      <th>4</th>\n",
       "      <td>AJFK</td>\n",
       "      <td>NaN</td>\n",
       "      <td>UK</td>\n",
       "      <td>NaN</td>\n",
       "      <td>BE</td>\n",
       "      <td>CP</td>\n",
       "      <td>NSA</td>\n",
       "      <td>NaN</td>\n",
       "    </tr>\n",
       "  </tbody>\n",
       "</table>\n",
       "</div>"
      ],
      "text/plain": [
       "   cdid  COMMODITY AREA DIRECTION BASIS PRICE SEASADJ  PERIOD\n",
       "0  AJFB        NaN   UK       NaN    BE    CP     NSA     NaN\n",
       "1  AJFD        NaN   UK       NaN    BE    CP     NSA     NaN\n",
       "2  AJFI        NaN   UK       NaN    BE    CP     NSA     NaN\n",
       "3  AJFJ        NaN   UK       NaN    BE    CP     NSA     NaN\n",
       "4  AJFK        NaN   UK       NaN    BE    CP     NSA     NaN"
      ]
     },
     "execution_count": 18,
     "metadata": {},
     "output_type": "execute_result"
    }
   ],
   "source": [
    "classification4.head(5)"
   ]
  },
  {
   "cell_type": "code",
   "execution_count": 22,
   "metadata": {
    "collapsed": true
   },
   "outputs": [],
   "source": [
    "classification2.rename(index = str, columns = {'PRODUCT':'COMMODITY'}, inplace = True)"
   ]
  },
  {
   "cell_type": "code",
   "execution_count": 23,
   "metadata": {
    "collapsed": true
   },
   "outputs": [],
   "source": [
    "classification3['COMMODITY'] = ''\n",
    "classification3['PRICE'] = ''"
   ]
  },
  {
   "cell_type": "code",
   "execution_count": 24,
   "metadata": {
    "collapsed": true
   },
   "outputs": [],
   "source": [
    "classification3.rename(index = str, columns = {'COUNTRY':'AREA'}, inplace = True)"
   ]
  },
  {
   "cell_type": "code",
   "execution_count": 25,
   "metadata": {
    "collapsed": true
   },
   "outputs": [],
   "source": [
    "temp_table = pd.concat([temp_table, classification1, classification2,classification3,classification4])"
   ]
  },
  {
   "cell_type": "code",
   "execution_count": 26,
   "metadata": {},
   "outputs": [
    {
     "data": {
      "text/html": [
       "<div>\n",
       "<style>\n",
       "    .dataframe thead tr:only-child th {\n",
       "        text-align: right;\n",
       "    }\n",
       "\n",
       "    .dataframe thead th {\n",
       "        text-align: left;\n",
       "    }\n",
       "\n",
       "    .dataframe tbody tr th {\n",
       "        vertical-align: top;\n",
       "    }\n",
       "</style>\n",
       "<table border=\"1\" class=\"dataframe\">\n",
       "  <thead>\n",
       "    <tr style=\"text-align: right;\">\n",
       "      <th></th>\n",
       "      <th>AREA</th>\n",
       "      <th>BASIS</th>\n",
       "      <th>COMMODITY</th>\n",
       "      <th>DIRECTION</th>\n",
       "      <th>PERIOD</th>\n",
       "      <th>PRICE</th>\n",
       "      <th>SEASADJ</th>\n",
       "      <th>cdid</th>\n",
       "    </tr>\n",
       "  </thead>\n",
       "  <tbody>\n",
       "    <tr>\n",
       "      <th>0</th>\n",
       "      <td>EU</td>\n",
       "      <td>BOP</td>\n",
       "      <td>2plus4</td>\n",
       "      <td>BAL</td>\n",
       "      <td>M</td>\n",
       "      <td>CP</td>\n",
       "      <td>NSA</td>\n",
       "      <td>SDSX</td>\n",
       "    </tr>\n",
       "    <tr>\n",
       "      <th>1</th>\n",
       "      <td>EU</td>\n",
       "      <td>BOP</td>\n",
       "      <td>5minus8</td>\n",
       "      <td>BAL</td>\n",
       "      <td>M</td>\n",
       "      <td>CP</td>\n",
       "      <td>NSA</td>\n",
       "      <td>SGLO</td>\n",
       "    </tr>\n",
       "    <tr>\n",
       "      <th>2</th>\n",
       "      <td>EU</td>\n",
       "      <td>BOP</td>\n",
       "      <td>7plus8</td>\n",
       "      <td>BAL</td>\n",
       "      <td>M</td>\n",
       "      <td>CP</td>\n",
       "      <td>NSA</td>\n",
       "      <td>SFJC</td>\n",
       "    </tr>\n",
       "    <tr>\n",
       "      <th>3</th>\n",
       "      <td>EU</td>\n",
       "      <td>BOP</td>\n",
       "      <td>TminusO</td>\n",
       "      <td>BAL</td>\n",
       "      <td>M</td>\n",
       "      <td>CP</td>\n",
       "      <td>NSA</td>\n",
       "      <td>LKTX</td>\n",
       "    </tr>\n",
       "    <tr>\n",
       "      <th>4</th>\n",
       "      <td>EU</td>\n",
       "      <td>BOP</td>\n",
       "      <td>0plus1</td>\n",
       "      <td>BAL</td>\n",
       "      <td>M</td>\n",
       "      <td>CP</td>\n",
       "      <td>NSA</td>\n",
       "      <td>SDMS</td>\n",
       "    </tr>\n",
       "  </tbody>\n",
       "</table>\n",
       "</div>"
      ],
      "text/plain": [
       "  AREA BASIS COMMODITY DIRECTION PERIOD PRICE SEASADJ  cdid\n",
       "0   EU   BOP    2plus4       BAL      M    CP     NSA  SDSX\n",
       "1   EU   BOP   5minus8       BAL      M    CP     NSA  SGLO\n",
       "2   EU   BOP    7plus8       BAL      M    CP     NSA  SFJC\n",
       "3   EU   BOP   TminusO       BAL      M    CP     NSA  LKTX\n",
       "4   EU   BOP    0plus1       BAL      M    CP     NSA  SDMS"
      ]
     },
     "execution_count": 26,
     "metadata": {},
     "output_type": "execute_result"
    }
   ],
   "source": [
    "temp_table.head()"
   ]
  },
  {
   "cell_type": "code",
   "execution_count": 27,
   "metadata": {},
   "outputs": [
    {
     "data": {
      "text/plain": [
       "(18295, 8)"
      ]
     },
     "execution_count": 27,
     "metadata": {},
     "output_type": "execute_result"
    }
   ],
   "source": [
    "temp_table.shape"
   ]
  },
  {
   "cell_type": "code",
   "execution_count": 28,
   "metadata": {
    "collapsed": true
   },
   "outputs": [],
   "source": [
    "temp_table.drop_duplicates(['cdid'], keep='first', inplace=True)"
   ]
  },
  {
   "cell_type": "code",
   "execution_count": 29,
   "metadata": {},
   "outputs": [
    {
     "data": {
      "text/html": [
       "<div>\n",
       "<style>\n",
       "    .dataframe thead tr:only-child th {\n",
       "        text-align: right;\n",
       "    }\n",
       "\n",
       "    .dataframe thead th {\n",
       "        text-align: left;\n",
       "    }\n",
       "\n",
       "    .dataframe tbody tr th {\n",
       "        vertical-align: top;\n",
       "    }\n",
       "</style>\n",
       "<table border=\"1\" class=\"dataframe\">\n",
       "  <thead>\n",
       "    <tr style=\"text-align: right;\">\n",
       "      <th></th>\n",
       "      <th>AREA</th>\n",
       "      <th>BASIS</th>\n",
       "      <th>COMMODITY</th>\n",
       "      <th>DIRECTION</th>\n",
       "      <th>PERIOD</th>\n",
       "      <th>PRICE</th>\n",
       "      <th>SEASADJ</th>\n",
       "      <th>cdid</th>\n",
       "    </tr>\n",
       "  </thead>\n",
       "  <tbody>\n",
       "    <tr>\n",
       "      <th>0</th>\n",
       "      <td>EU</td>\n",
       "      <td>BOP</td>\n",
       "      <td>2plus4</td>\n",
       "      <td>BAL</td>\n",
       "      <td>M</td>\n",
       "      <td>CP</td>\n",
       "      <td>NSA</td>\n",
       "      <td>SDSX</td>\n",
       "    </tr>\n",
       "    <tr>\n",
       "      <th>1</th>\n",
       "      <td>EU</td>\n",
       "      <td>BOP</td>\n",
       "      <td>5minus8</td>\n",
       "      <td>BAL</td>\n",
       "      <td>M</td>\n",
       "      <td>CP</td>\n",
       "      <td>NSA</td>\n",
       "      <td>SGLO</td>\n",
       "    </tr>\n",
       "    <tr>\n",
       "      <th>2</th>\n",
       "      <td>EU</td>\n",
       "      <td>BOP</td>\n",
       "      <td>7plus8</td>\n",
       "      <td>BAL</td>\n",
       "      <td>M</td>\n",
       "      <td>CP</td>\n",
       "      <td>NSA</td>\n",
       "      <td>SFJC</td>\n",
       "    </tr>\n",
       "    <tr>\n",
       "      <th>3</th>\n",
       "      <td>EU</td>\n",
       "      <td>BOP</td>\n",
       "      <td>TminusO</td>\n",
       "      <td>BAL</td>\n",
       "      <td>M</td>\n",
       "      <td>CP</td>\n",
       "      <td>NSA</td>\n",
       "      <td>LKTX</td>\n",
       "    </tr>\n",
       "    <tr>\n",
       "      <th>4</th>\n",
       "      <td>EU</td>\n",
       "      <td>BOP</td>\n",
       "      <td>0plus1</td>\n",
       "      <td>BAL</td>\n",
       "      <td>M</td>\n",
       "      <td>CP</td>\n",
       "      <td>NSA</td>\n",
       "      <td>SDMS</td>\n",
       "    </tr>\n",
       "  </tbody>\n",
       "</table>\n",
       "</div>"
      ],
      "text/plain": [
       "  AREA BASIS COMMODITY DIRECTION PERIOD PRICE SEASADJ  cdid\n",
       "0   EU   BOP    2plus4       BAL      M    CP     NSA  SDSX\n",
       "1   EU   BOP   5minus8       BAL      M    CP     NSA  SGLO\n",
       "2   EU   BOP    7plus8       BAL      M    CP     NSA  SFJC\n",
       "3   EU   BOP   TminusO       BAL      M    CP     NSA  LKTX\n",
       "4   EU   BOP    0plus1       BAL      M    CP     NSA  SDMS"
      ]
     },
     "execution_count": 29,
     "metadata": {},
     "output_type": "execute_result"
    }
   ],
   "source": [
    "temp_table.head()"
   ]
  },
  {
   "cell_type": "code",
   "execution_count": 30,
   "metadata": {},
   "outputs": [
    {
     "data": {
      "text/html": [
       "<div>\n",
       "<style>\n",
       "    .dataframe thead tr:only-child th {\n",
       "        text-align: right;\n",
       "    }\n",
       "\n",
       "    .dataframe thead th {\n",
       "        text-align: left;\n",
       "    }\n",
       "\n",
       "    .dataframe tbody tr th {\n",
       "        vertical-align: top;\n",
       "    }\n",
       "</style>\n",
       "<table border=\"1\" class=\"dataframe\">\n",
       "  <thead>\n",
       "    <tr style=\"text-align: right;\">\n",
       "      <th></th>\n",
       "      <th>OBS</th>\n",
       "      <th>TIME</th>\n",
       "      <th>TIMEUNIT</th>\n",
       "      <th>Geography</th>\n",
       "      <th>Cdid</th>\n",
       "      <th>Unit</th>\n",
       "      <th>Measure Type</th>\n",
       "      <th>Title</th>\n",
       "    </tr>\n",
       "  </thead>\n",
       "  <tbody>\n",
       "    <tr>\n",
       "      <th>0</th>\n",
       "      <td>1039.0</td>\n",
       "      <td>1955</td>\n",
       "      <td>Year</td>\n",
       "      <td>K02000001</td>\n",
       "      <td>IKBB</td>\n",
       "      <td>£ Millions</td>\n",
       "      <td>GBP Total</td>\n",
       "      <td>BOP: Exports:CP SA: Total Trade in Services £m</td>\n",
       "    </tr>\n",
       "    <tr>\n",
       "      <th>1</th>\n",
       "      <td>997.0</td>\n",
       "      <td>1955</td>\n",
       "      <td>Year</td>\n",
       "      <td>K02000001</td>\n",
       "      <td>IKBC</td>\n",
       "      <td>£ Millions</td>\n",
       "      <td>GBP Total</td>\n",
       "      <td>BOP:Imports:CP SA:Total Trade in Services £m</td>\n",
       "    </tr>\n",
       "    <tr>\n",
       "      <th>2</th>\n",
       "      <td>1147.0</td>\n",
       "      <td>1956</td>\n",
       "      <td>Year</td>\n",
       "      <td>K02000001</td>\n",
       "      <td>IKBB</td>\n",
       "      <td>£ Millions</td>\n",
       "      <td>GBP Total</td>\n",
       "      <td>BOP: Exports:CP SA: Total Trade in Services £m</td>\n",
       "    </tr>\n",
       "    <tr>\n",
       "      <th>3</th>\n",
       "      <td>1121.0</td>\n",
       "      <td>1956</td>\n",
       "      <td>Year</td>\n",
       "      <td>K02000001</td>\n",
       "      <td>IKBC</td>\n",
       "      <td>£ Millions</td>\n",
       "      <td>GBP Total</td>\n",
       "      <td>BOP:Imports:CP SA:Total Trade in Services £m</td>\n",
       "    </tr>\n",
       "    <tr>\n",
       "      <th>4</th>\n",
       "      <td>1250.0</td>\n",
       "      <td>1957</td>\n",
       "      <td>Year</td>\n",
       "      <td>K02000001</td>\n",
       "      <td>IKBB</td>\n",
       "      <td>£ Millions</td>\n",
       "      <td>GBP Total</td>\n",
       "      <td>BOP: Exports:CP SA: Total Trade in Services £m</td>\n",
       "    </tr>\n",
       "  </tbody>\n",
       "</table>\n",
       "</div>"
      ],
      "text/plain": [
       "      OBS  TIME TIMEUNIT  Geography  Cdid        Unit Measure Type  \\\n",
       "0  1039.0  1955     Year  K02000001  IKBB  £ Millions    GBP Total   \n",
       "1   997.0  1955     Year  K02000001  IKBC  £ Millions    GBP Total   \n",
       "2  1147.0  1956     Year  K02000001  IKBB  £ Millions    GBP Total   \n",
       "3  1121.0  1956     Year  K02000001  IKBC  £ Millions    GBP Total   \n",
       "4  1250.0  1957     Year  K02000001  IKBB  £ Millions    GBP Total   \n",
       "\n",
       "                                            Title  \n",
       "0  BOP: Exports:CP SA: Total Trade in Services £m  \n",
       "1    BOP:Imports:CP SA:Total Trade in Services £m  \n",
       "2  BOP: Exports:CP SA: Total Trade in Services £m  \n",
       "3    BOP:Imports:CP SA:Total Trade in Services £m  \n",
       "4  BOP: Exports:CP SA: Total Trade in Services £m  "
      ]
     },
     "execution_count": 30,
     "metadata": {},
     "output_type": "execute_result"
    }
   ],
   "source": [
    "new_table.head(5)"
   ]
  },
  {
   "cell_type": "code",
   "execution_count": 31,
   "metadata": {},
   "outputs": [
    {
     "data": {
      "text/plain": [
       "0    IKBB\n",
       "Name: Cdid, dtype: object"
      ]
     },
     "execution_count": 31,
     "metadata": {},
     "output_type": "execute_result"
    }
   ],
   "source": [
    "new_table.head(1)['Cdid']"
   ]
  },
  {
   "cell_type": "code",
   "execution_count": 32,
   "metadata": {},
   "outputs": [
    {
     "data": {
      "text/plain": [
       "0    SDSX\n",
       "Name: cdid, dtype: object"
      ]
     },
     "execution_count": 32,
     "metadata": {},
     "output_type": "execute_result"
    }
   ],
   "source": [
    "temp_table.head(1)['cdid']"
   ]
  },
  {
   "cell_type": "code",
   "execution_count": 33,
   "metadata": {
    "collapsed": true
   },
   "outputs": [],
   "source": [
    "new_table = pd.merge(new_table,temp_table, how = 'left', left_on = 'Cdid', right_on = 'cdid')"
   ]
  },
  {
   "cell_type": "code",
   "execution_count": 34,
   "metadata": {},
   "outputs": [
    {
     "data": {
      "text/html": [
       "<div>\n",
       "<style>\n",
       "    .dataframe thead tr:only-child th {\n",
       "        text-align: right;\n",
       "    }\n",
       "\n",
       "    .dataframe thead th {\n",
       "        text-align: left;\n",
       "    }\n",
       "\n",
       "    .dataframe tbody tr th {\n",
       "        vertical-align: top;\n",
       "    }\n",
       "</style>\n",
       "<table border=\"1\" class=\"dataframe\">\n",
       "  <thead>\n",
       "    <tr style=\"text-align: right;\">\n",
       "      <th></th>\n",
       "      <th>OBS</th>\n",
       "      <th>TIME</th>\n",
       "      <th>TIMEUNIT</th>\n",
       "      <th>Geography</th>\n",
       "      <th>Cdid</th>\n",
       "      <th>Unit</th>\n",
       "      <th>Measure Type</th>\n",
       "      <th>Title</th>\n",
       "      <th>AREA</th>\n",
       "      <th>BASIS</th>\n",
       "      <th>COMMODITY</th>\n",
       "      <th>DIRECTION</th>\n",
       "      <th>PERIOD</th>\n",
       "      <th>PRICE</th>\n",
       "      <th>SEASADJ</th>\n",
       "      <th>cdid</th>\n",
       "    </tr>\n",
       "  </thead>\n",
       "  <tbody>\n",
       "    <tr>\n",
       "      <th>0</th>\n",
       "      <td>1039.0</td>\n",
       "      <td>1955</td>\n",
       "      <td>Year</td>\n",
       "      <td>K02000001</td>\n",
       "      <td>IKBB</td>\n",
       "      <td>£ Millions</td>\n",
       "      <td>GBP Total</td>\n",
       "      <td>BOP: Exports:CP SA: Total Trade in Services £m</td>\n",
       "      <td>NaN</td>\n",
       "      <td>NaN</td>\n",
       "      <td>NaN</td>\n",
       "      <td>EX</td>\n",
       "      <td>NaN</td>\n",
       "      <td>CP</td>\n",
       "      <td>SA</td>\n",
       "      <td>IKBB</td>\n",
       "    </tr>\n",
       "    <tr>\n",
       "      <th>1</th>\n",
       "      <td>997.0</td>\n",
       "      <td>1955</td>\n",
       "      <td>Year</td>\n",
       "      <td>K02000001</td>\n",
       "      <td>IKBC</td>\n",
       "      <td>£ Millions</td>\n",
       "      <td>GBP Total</td>\n",
       "      <td>BOP:Imports:CP SA:Total Trade in Services £m</td>\n",
       "      <td>NaN</td>\n",
       "      <td>NaN</td>\n",
       "      <td>NaN</td>\n",
       "      <td>IM</td>\n",
       "      <td>NaN</td>\n",
       "      <td>CP</td>\n",
       "      <td>SA</td>\n",
       "      <td>IKBC</td>\n",
       "    </tr>\n",
       "    <tr>\n",
       "      <th>2</th>\n",
       "      <td>1147.0</td>\n",
       "      <td>1956</td>\n",
       "      <td>Year</td>\n",
       "      <td>K02000001</td>\n",
       "      <td>IKBB</td>\n",
       "      <td>£ Millions</td>\n",
       "      <td>GBP Total</td>\n",
       "      <td>BOP: Exports:CP SA: Total Trade in Services £m</td>\n",
       "      <td>NaN</td>\n",
       "      <td>NaN</td>\n",
       "      <td>NaN</td>\n",
       "      <td>EX</td>\n",
       "      <td>NaN</td>\n",
       "      <td>CP</td>\n",
       "      <td>SA</td>\n",
       "      <td>IKBB</td>\n",
       "    </tr>\n",
       "    <tr>\n",
       "      <th>3</th>\n",
       "      <td>1121.0</td>\n",
       "      <td>1956</td>\n",
       "      <td>Year</td>\n",
       "      <td>K02000001</td>\n",
       "      <td>IKBC</td>\n",
       "      <td>£ Millions</td>\n",
       "      <td>GBP Total</td>\n",
       "      <td>BOP:Imports:CP SA:Total Trade in Services £m</td>\n",
       "      <td>NaN</td>\n",
       "      <td>NaN</td>\n",
       "      <td>NaN</td>\n",
       "      <td>IM</td>\n",
       "      <td>NaN</td>\n",
       "      <td>CP</td>\n",
       "      <td>SA</td>\n",
       "      <td>IKBC</td>\n",
       "    </tr>\n",
       "    <tr>\n",
       "      <th>4</th>\n",
       "      <td>1250.0</td>\n",
       "      <td>1957</td>\n",
       "      <td>Year</td>\n",
       "      <td>K02000001</td>\n",
       "      <td>IKBB</td>\n",
       "      <td>£ Millions</td>\n",
       "      <td>GBP Total</td>\n",
       "      <td>BOP: Exports:CP SA: Total Trade in Services £m</td>\n",
       "      <td>NaN</td>\n",
       "      <td>NaN</td>\n",
       "      <td>NaN</td>\n",
       "      <td>EX</td>\n",
       "      <td>NaN</td>\n",
       "      <td>CP</td>\n",
       "      <td>SA</td>\n",
       "      <td>IKBB</td>\n",
       "    </tr>\n",
       "  </tbody>\n",
       "</table>\n",
       "</div>"
      ],
      "text/plain": [
       "      OBS  TIME TIMEUNIT  Geography  Cdid        Unit Measure Type  \\\n",
       "0  1039.0  1955     Year  K02000001  IKBB  £ Millions    GBP Total   \n",
       "1   997.0  1955     Year  K02000001  IKBC  £ Millions    GBP Total   \n",
       "2  1147.0  1956     Year  K02000001  IKBB  £ Millions    GBP Total   \n",
       "3  1121.0  1956     Year  K02000001  IKBC  £ Millions    GBP Total   \n",
       "4  1250.0  1957     Year  K02000001  IKBB  £ Millions    GBP Total   \n",
       "\n",
       "                                            Title AREA BASIS COMMODITY  \\\n",
       "0  BOP: Exports:CP SA: Total Trade in Services £m  NaN   NaN       NaN   \n",
       "1    BOP:Imports:CP SA:Total Trade in Services £m  NaN   NaN       NaN   \n",
       "2  BOP: Exports:CP SA: Total Trade in Services £m  NaN   NaN       NaN   \n",
       "3    BOP:Imports:CP SA:Total Trade in Services £m  NaN   NaN       NaN   \n",
       "4  BOP: Exports:CP SA: Total Trade in Services £m  NaN   NaN       NaN   \n",
       "\n",
       "  DIRECTION PERIOD PRICE SEASADJ  cdid  \n",
       "0        EX    NaN    CP      SA  IKBB  \n",
       "1        IM    NaN    CP      SA  IKBC  \n",
       "2        EX    NaN    CP      SA  IKBB  \n",
       "3        IM    NaN    CP      SA  IKBC  \n",
       "4        EX    NaN    CP      SA  IKBB  "
      ]
     },
     "execution_count": 34,
     "metadata": {},
     "output_type": "execute_result"
    }
   ],
   "source": [
    "new_table.head(5)"
   ]
  },
  {
   "cell_type": "code",
   "execution_count": 35,
   "metadata": {
    "collapsed": true
   },
   "outputs": [],
   "source": [
    "new_table.drop(['cdid'], axis = 1, inplace = True)"
   ]
  },
  {
   "cell_type": "code",
   "execution_count": 36,
   "metadata": {
    "collapsed": true
   },
   "outputs": [],
   "source": [
    "new_table['Year'] = new_table['TIME'].map(lambda x: str(x)[:4])"
   ]
  },
  {
   "cell_type": "code",
   "execution_count": 37,
   "metadata": {
    "collapsed": true
   },
   "outputs": [],
   "source": [
    "new_table['Months/Quarter'] = new_table['TIME'].map(lambda x: str(x)[4:])"
   ]
  },
  {
   "cell_type": "code",
   "execution_count": 39,
   "metadata": {
    "collapsed": true
   },
   "outputs": [],
   "source": [
    "new_table = new_table.drop('TIME', axis=1)"
   ]
  },
  {
   "cell_type": "code",
   "execution_count": 40,
   "metadata": {
    "collapsed": true
   },
   "outputs": [],
   "source": [
    "new_table.rename(index= str, columns= {'Year':'TIME'}, inplace = True)"
   ]
  },
  {
   "cell_type": "code",
   "execution_count": 43,
   "metadata": {
    "collapsed": true
   },
   "outputs": [],
   "source": [
    "new_table['Months/Quarter'] = new_table['Months/Quarter'].str.lstrip('')"
   ]
  },
  {
   "cell_type": "code",
   "execution_count": 44,
   "metadata": {
    "collapsed": true
   },
   "outputs": [],
   "source": [
    "new_table['Period'] = new_table['TIMEUNIT'].map(str)+'/'+new_table['TIME']+'-'+new_table['Months/Quarter']"
   ]
  },
  {
   "cell_type": "code",
   "execution_count": 45,
   "metadata": {
    "collapsed": true
   },
   "outputs": [],
   "source": [
    "new_table['Period'] = new_table['Period'].str.rstrip('-')"
   ]
  },
  {
   "cell_type": "code",
   "execution_count": 46,
   "metadata": {
    "collapsed": true
   },
   "outputs": [],
   "source": [
    "new_table['Period'] = new_table['Period'].map(lambda cell:cell.replace(' ', ''))"
   ]
  },
  {
   "cell_type": "code",
   "execution_count": 49,
   "metadata": {
    "collapsed": true
   },
   "outputs": [],
   "source": [
    "new_table['Period'] = new_table['Period'].map(lambda cell:cell.replace('Year', 'year'))"
   ]
  },
  {
   "cell_type": "code",
   "execution_count": 61,
   "metadata": {},
   "outputs": [
    {
     "name": "stderr",
     "output_type": "stream",
     "text": [
      "C:\\ProgramData\\Anaconda3\\lib\\site-packages\\pandas\\core\\frame.py:2746: SettingWithCopyWarning: \n",
      "A value is trying to be set on a copy of a slice from a DataFrame\n",
      "\n",
      "See the caveats in the documentation: http://pandas.pydata.org/pandas-docs/stable/indexing.html#indexing-view-versus-copy\n",
      "  **kwargs)\n"
     ]
    }
   ],
   "source": [
    "new_table.rename(index= str, columns= {'OBS':'Value'}, inplace = True)\n",
    "new_table.rename(index= str, columns= {'DIRECTION':'Flow'}, inplace = True)\n",
    "new_table.rename(index= str, columns= {'COMMODITY':'Product'}, inplace = True)"
   ]
  },
  {
   "cell_type": "code",
   "execution_count": 53,
   "metadata": {
    "collapsed": true
   },
   "outputs": [],
   "source": [
    "new_table.drop(['TIME'], axis = 1, inplace = True)\n",
    "new_table.drop(['TIMEUNIT'], axis = 1, inplace = True)\n",
    "new_table.drop(['Geography'], axis = 1, inplace = True)\n",
    "new_table.drop(['PERIOD'], axis = 1, inplace = True)\n",
    "new_table.drop(['Months/Quarter'], axis = 1, inplace = True)\n"
   ]
  },
  {
   "cell_type": "code",
   "execution_count": 62,
   "metadata": {
    "collapsed": true
   },
   "outputs": [],
   "source": [
    "new_table =new_table[['AREA','Period','Cdid','BASIS','Product','SEASADJ','Flow','PRICE','Measure Type','Value','Unit']]"
   ]
  },
  {
   "cell_type": "code",
   "execution_count": 63,
   "metadata": {},
   "outputs": [
    {
     "data": {
      "text/html": [
       "<div>\n",
       "<style>\n",
       "    .dataframe thead tr:only-child th {\n",
       "        text-align: right;\n",
       "    }\n",
       "\n",
       "    .dataframe thead th {\n",
       "        text-align: left;\n",
       "    }\n",
       "\n",
       "    .dataframe tbody tr th {\n",
       "        vertical-align: top;\n",
       "    }\n",
       "</style>\n",
       "<table border=\"1\" class=\"dataframe\">\n",
       "  <thead>\n",
       "    <tr style=\"text-align: right;\">\n",
       "      <th></th>\n",
       "      <th>AREA</th>\n",
       "      <th>Period</th>\n",
       "      <th>Cdid</th>\n",
       "      <th>BASIS</th>\n",
       "      <th>Product</th>\n",
       "      <th>SEASADJ</th>\n",
       "      <th>Flow</th>\n",
       "      <th>PRICE</th>\n",
       "      <th>Measure Type</th>\n",
       "      <th>Value</th>\n",
       "      <th>Unit</th>\n",
       "    </tr>\n",
       "  </thead>\n",
       "  <tbody>\n",
       "    <tr>\n",
       "      <th>269107</th>\n",
       "      <td>WW</td>\n",
       "      <td>/2018-FEB</td>\n",
       "      <td>QALU</td>\n",
       "      <td>BOP</td>\n",
       "      <td>792</td>\n",
       "      <td>SA</td>\n",
       "      <td>EX</td>\n",
       "      <td>CP</td>\n",
       "      <td>GBP Total</td>\n",
       "      <td>1282.0</td>\n",
       "      <td>£ Millions</td>\n",
       "    </tr>\n",
       "    <tr>\n",
       "      <th>269108</th>\n",
       "      <td>RW</td>\n",
       "      <td>/2018-FEB</td>\n",
       "      <td>SGRX</td>\n",
       "      <td>BOP</td>\n",
       "      <td>9</td>\n",
       "      <td>SA</td>\n",
       "      <td>EX</td>\n",
       "      <td>CP</td>\n",
       "      <td>GBP Total</td>\n",
       "      <td>457.0</td>\n",
       "      <td>£ Millions</td>\n",
       "    </tr>\n",
       "    <tr>\n",
       "      <th>269109</th>\n",
       "      <td>WW</td>\n",
       "      <td>/2018-FEB</td>\n",
       "      <td>QALW</td>\n",
       "      <td>BOP</td>\n",
       "      <td>792</td>\n",
       "      <td>SA</td>\n",
       "      <td>BAL</td>\n",
       "      <td>CP</td>\n",
       "      <td>GBP Total</td>\n",
       "      <td>757.0</td>\n",
       "      <td>£ Millions</td>\n",
       "    </tr>\n",
       "    <tr>\n",
       "      <th>269110</th>\n",
       "      <td>WW</td>\n",
       "      <td>/2018-FEB</td>\n",
       "      <td>QALV</td>\n",
       "      <td>BOP</td>\n",
       "      <td>792</td>\n",
       "      <td>SA</td>\n",
       "      <td>IM</td>\n",
       "      <td>CP</td>\n",
       "      <td>GBP Total</td>\n",
       "      <td>525.0</td>\n",
       "      <td>£ Millions</td>\n",
       "    </tr>\n",
       "    <tr>\n",
       "      <th>269111</th>\n",
       "      <td>RW</td>\n",
       "      <td>/2018-FEB</td>\n",
       "      <td>SGTK</td>\n",
       "      <td>BOP</td>\n",
       "      <td>9</td>\n",
       "      <td>SA</td>\n",
       "      <td>IM</td>\n",
       "      <td>CP</td>\n",
       "      <td>GBP Total</td>\n",
       "      <td>439.0</td>\n",
       "      <td>£ Millions</td>\n",
       "    </tr>\n",
       "  </tbody>\n",
       "</table>\n",
       "</div>"
      ],
      "text/plain": [
       "       AREA     Period  Cdid BASIS Product SEASADJ Flow PRICE Measure Type  \\\n",
       "269107   WW  /2018-FEB  QALU   BOP     792      SA   EX    CP    GBP Total   \n",
       "269108   RW  /2018-FEB  SGRX   BOP       9      SA   EX    CP    GBP Total   \n",
       "269109   WW  /2018-FEB  QALW   BOP     792      SA  BAL    CP    GBP Total   \n",
       "269110   WW  /2018-FEB  QALV   BOP     792      SA   IM    CP    GBP Total   \n",
       "269111   RW  /2018-FEB  SGTK   BOP       9      SA   IM    CP    GBP Total   \n",
       "\n",
       "         Value        Unit  \n",
       "269107  1282.0  £ Millions  \n",
       "269108   457.0  £ Millions  \n",
       "269109   757.0  £ Millions  \n",
       "269110   525.0  £ Millions  \n",
       "269111   439.0  £ Millions  "
      ]
     },
     "execution_count": 63,
     "metadata": {},
     "output_type": "execute_result"
    }
   ],
   "source": [
    "new_table.tail(5)"
   ]
  },
  {
   "cell_type": "markdown",
   "metadata": {},
   "source": [
    "Pull out missing Values"
   ]
  },
  {
   "cell_type": "code",
   "execution_count": null,
   "metadata": {
    "collapsed": true
   },
   "outputs": [],
   "source": [
    "# temp_table1 = new_table[new_table['AREA'].isnull() == True] \n",
    "# Codelist = temp_table1['Cdid'].unique()\n",
    "# Codelist.shape\n",
    "# codes = pd.Series(Codelist)\n",
    "# codes.to_csv('Codelist.csv', index = False)"
   ]
  },
  {
   "cell_type": "code",
   "execution_count": 65,
   "metadata": {},
   "outputs": [
    {
     "data": {
      "text/plain": [
       "AREA             object\n",
       "Period           object\n",
       "Cdid             object\n",
       "BASIS            object\n",
       "Product          object\n",
       "SEASADJ          object\n",
       "Flow             object\n",
       "PRICE            object\n",
       "Measure Type     object\n",
       "Value           float64\n",
       "Unit             object\n",
       "dtype: object"
      ]
     },
     "execution_count": 65,
     "metadata": {},
     "output_type": "execute_result"
    }
   ],
   "source": [
    "new_table.dtypes"
   ]
  },
  {
   "cell_type": "code",
   "execution_count": 66,
   "metadata": {
    "collapsed": true
   },
   "outputs": [],
   "source": [
    "destinationFolder = Path('out')\n",
    "destinationFolder.mkdir(exist_ok=True, parents=True)\n",
    "\n",
    "new_table.to_csv(destinationFolder / ('MRET_Tidydata.csv'), index = False)"
   ]
  },
  {
   "cell_type": "code",
   "execution_count": 64,
   "metadata": {
    "collapsed": true
   },
   "outputs": [],
   "source": [
    "# new_table.to_csv('C:\\\\Users\\\\vamsi\\\\Desktop\\\\Gdrive\\\\Out\\\\Mret\\\\MRET_Tidydata.csv', index = False)"
   ]
  }
 ],
 "metadata": {
  "kernelspec": {
   "display_name": "Python 3",
   "language": "python",
   "name": "python3"
  },
  "language_info": {
   "codemirror_mode": {
    "name": "ipython",
    "version": 3
   },
   "file_extension": ".py",
   "mimetype": "text/x-python",
   "name": "python",
   "nbconvert_exporter": "python",
   "pygments_lexer": "ipython3",
   "version": "3.6.3"
  }
 },
 "nbformat": 4,
 "nbformat_minor": 2
}
